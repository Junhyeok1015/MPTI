{
 "cells": [
  {
   "cell_type": "markdown",
   "id": "imposed-yield",
   "metadata": {},
   "source": [
    "## example_entry.py에 맞춰 sherlock dataset 생성"
   ]
  },
  {
   "cell_type": "code",
   "execution_count": 141,
   "id": "secret-stations",
   "metadata": {},
   "outputs": [],
   "source": [
    "import pandas as pd\n",
    "import numpy as np\n",
    "import re\n",
    "import random"
   ]
  },
  {
   "cell_type": "code",
   "execution_count": 142,
   "id": "sealed-dress",
   "metadata": {},
   "outputs": [
    {
     "data": {
      "text/html": [
       "<div>\n",
       "<style scoped>\n",
       "    .dataframe tbody tr th:only-of-type {\n",
       "        vertical-align: middle;\n",
       "    }\n",
       "\n",
       "    .dataframe tbody tr th {\n",
       "        vertical-align: top;\n",
       "    }\n",
       "\n",
       "    .dataframe thead th {\n",
       "        text-align: right;\n",
       "    }\n",
       "</style>\n",
       "<table border=\"1\" class=\"dataframe\">\n",
       "  <thead>\n",
       "    <tr style=\"text-align: right;\">\n",
       "      <th></th>\n",
       "      <th>question</th>\n",
       "      <th>answer</th>\n",
       "    </tr>\n",
       "  </thead>\n",
       "  <tbody>\n",
       "    <tr>\n",
       "      <th>0</th>\n",
       "      <td>Who was the first?</td>\n",
       "      <td>How fresh?</td>\n",
       "    </tr>\n",
       "    <tr>\n",
       "      <th>1</th>\n",
       "      <td>Just in. Sixty-seven, natural causes. He used ...</td>\n",
       "      <td>Fine. We’ll start with the riding crop.</td>\n",
       "    </tr>\n",
       "    <tr>\n",
       "      <th>2</th>\n",
       "      <td>So, bad day, was it?</td>\n",
       "      <td>I need to know what bruises form in the next t...</td>\n",
       "    </tr>\n",
       "    <tr>\n",
       "      <th>3</th>\n",
       "      <td>Listen, I was wondering: maybe later, when you...</td>\n",
       "      <td>Are you wearing lipstick? You weren’t wearing ...</td>\n",
       "    </tr>\n",
       "    <tr>\n",
       "      <th>4</th>\n",
       "      <td>I, er, I refreshed it a bit.</td>\n",
       "      <td>Sorry, you were saying?</td>\n",
       "    </tr>\n",
       "    <tr>\n",
       "      <th>...</th>\n",
       "      <td>...</td>\n",
       "      <td>...</td>\n",
       "    </tr>\n",
       "    <tr>\n",
       "      <th>4635</th>\n",
       "      <td>Yeah, I’ll take care of it.</td>\n",
       "      <td>Thanks, Greg.</td>\n",
       "    </tr>\n",
       "    <tr>\n",
       "      <th>4636</th>\n",
       "      <td>You okay?</td>\n",
       "      <td>I said I’d bring her home. I can’t, can I?</td>\n",
       "    </tr>\n",
       "    <tr>\n",
       "      <th>4637</th>\n",
       "      <td>Well, you gave her what she was looking for: c...</td>\n",
       "      <td>Is that good?</td>\n",
       "    </tr>\n",
       "    <tr>\n",
       "      <th>4638</th>\n",
       "      <td>Then you should have done better.</td>\n",
       "      <td>He did his best.</td>\n",
       "    </tr>\n",
       "    <tr>\n",
       "      <th>4639</th>\n",
       "      <td>... there are two men sitting arguing in a scr...</td>\n",
       "      <td>Oh, there’s Daddy!</td>\n",
       "    </tr>\n",
       "  </tbody>\n",
       "</table>\n",
       "<p>4640 rows × 2 columns</p>\n",
       "</div>"
      ],
      "text/plain": [
       "                                               question  \\\n",
       "0                                    Who was the first?   \n",
       "1     Just in. Sixty-seven, natural causes. He used ...   \n",
       "2                                  So, bad day, was it?   \n",
       "3     Listen, I was wondering: maybe later, when you...   \n",
       "4                          I, er, I refreshed it a bit.   \n",
       "...                                                 ...   \n",
       "4635                        Yeah, I’ll take care of it.   \n",
       "4636                                          You okay?   \n",
       "4637  Well, you gave her what she was looking for: c...   \n",
       "4638                  Then you should have done better.   \n",
       "4639  ... there are two men sitting arguing in a scr...   \n",
       "\n",
       "                                                 answer  \n",
       "0                                            How fresh?  \n",
       "1               Fine. We’ll start with the riding crop.  \n",
       "2     I need to know what bruises form in the next t...  \n",
       "3     Are you wearing lipstick? You weren’t wearing ...  \n",
       "4                               Sorry, you were saying?  \n",
       "...                                                 ...  \n",
       "4635                                      Thanks, Greg.  \n",
       "4636         I said I’d bring her home. I can’t, can I?  \n",
       "4637                                      Is that good?  \n",
       "4638                                   He did his best.  \n",
       "4639                                 Oh, there’s Daddy!  \n",
       "\n",
       "[4640 rows x 2 columns]"
      ]
     },
     "execution_count": 142,
     "metadata": {},
     "output_type": "execute_result"
    }
   ],
   "source": [
    "df = pd.read_json('data/sherlock_origin.json')\n",
    "df"
   ]
  },
  {
   "cell_type": "code",
   "execution_count": 143,
   "id": "occupied-yukon",
   "metadata": {
    "scrolled": true
   },
   "outputs": [
    {
     "name": "stderr",
     "output_type": "stream",
     "text": [
      "C:\\Users\\tpdud\\anaconda3\\lib\\site-packages\\ipykernel_launcher.py:4: FutureWarning: The default value of regex will change from True to False in a future version. In addition, single character regular expressions will*not* be treated as literal strings when regex=True.\n",
      "  after removing the cwd from sys.path.\n",
      "C:\\Users\\tpdud\\anaconda3\\lib\\site-packages\\ipykernel_launcher.py:6: FutureWarning: The default value of regex will change from True to False in a future version. In addition, single character regular expressions will*not* be treated as literal strings when regex=True.\n",
      "  \n",
      "C:\\Users\\tpdud\\anaconda3\\lib\\site-packages\\ipykernel_launcher.py:8: FutureWarning: The default value of regex will change from True to False in a future version. In addition, single character regular expressions will*not* be treated as literal strings when regex=True.\n",
      "  \n",
      "C:\\Users\\tpdud\\anaconda3\\lib\\site-packages\\ipykernel_launcher.py:10: FutureWarning: The default value of regex will change from True to False in a future version. In addition, single character regular expressions will*not* be treated as literal strings when regex=True.\n",
      "  # Remove the CWD from sys.path while we load stuff.\n",
      "C:\\Users\\tpdud\\anaconda3\\lib\\site-packages\\ipykernel_launcher.py:12: FutureWarning: The default value of regex will change from True to False in a future version.\n",
      "  if sys.path[0] == '':\n",
      "C:\\Users\\tpdud\\anaconda3\\lib\\site-packages\\ipykernel_launcher.py:13: FutureWarning: The default value of regex will change from True to False in a future version.\n",
      "  del sys.path[0]\n"
     ]
    }
   ],
   "source": [
    "df['question'] = df['question'].str.lower()\n",
    "df['answer'] = df['answer'].str.lower()\n",
    "\n",
    "df['question'] = df['question'].str.replace('.', ' .')\n",
    "df['question'] = df['question'].str.replace('!', ' !')\n",
    "df['question'] = df['question'].str.replace('?', ' ?')\n",
    "\n",
    "df['answer'] = df['answer'].str.replace('.', ' .')\n",
    "df['answer'] = df['answer'].str.replace('!', ' !')\n",
    "df['answer'] = df['answer'].str.replace('?', ' ?')\n",
    "\n",
    "df['question'] = df['question'].str.replace('. . .', '')\n",
    "df['answer'] = df['answer'].str.replace('. . .', '')"
   ]
  },
  {
   "cell_type": "markdown",
   "id": "ranging-holmes",
   "metadata": {},
   "source": [
    "### personality"
   ]
  },
  {
   "cell_type": "code",
   "execution_count": 5,
   "id": "noticed-community",
   "metadata": {},
   "outputs": [],
   "source": [
    "# personality = [\n",
    "#     'my name is sherlock holmes .',\n",
    "#     'i like to solve cases .',\n",
    "#     'i have an older brother named mycroft holmes .'\n",
    "#     'watson is my partner at work .',\n",
    "#     'i am a high functioning sociopath .'\n",
    "# ]"
   ]
  },
  {
   "cell_type": "code",
   "execution_count": 93,
   "id": "immune-theta",
   "metadata": {},
   "outputs": [
    {
     "data": {
      "text/plain": [
       "12"
      ]
     },
     "execution_count": 93,
     "metadata": {},
     "output_type": "execute_result"
    }
   ],
   "source": [
    "# 'i help out scotland yard when they are out of their depth with cases .',\n",
    "# 'i am proficient with observation, deduction,\\xa0forensic science .',\n",
    "# 'i care deeply about my closest friends .',\n",
    "# 'i compose music from time to time .',\n",
    "# 'i try to prevent anyone from getting a photograph of my face .',\n",
    "# 'i do not eat every day .'\n",
    "# 'i cannot properly deal with emotions .'\n",
    "# 'i hate when people tell me what to do .'\n",
    "# 'i have dark and curly hair',\n",
    "# 'i have a very unusual personality .',\n",
    "# 'i am skilled at feigning emotion .',\n",
    "# 'i do not enjoy eating .',\n",
    "# 'i am proficient with collecting information .',\n",
    "# 'i possess creative imagination .',\n",
    "# 'i have a keen ability to focus and concentrate outside of exterior distractions .',\n",
    "# 'i have a keen ability to understand and predict human behavior .',\n",
    "# 'i have an extremely developed ability to make connections using seemingly unrelated data .',\n",
    "# 'i feel threatened when my position of intellectual superiority is in danger of being toppled .',\n",
    "\n",
    "personality = [\n",
    "      'my name is sherlock holmes  .',\n",
    "      'i like to solve cases .',\n",
    "      'i have an older brother named mycroft holmes .',\n",
    "      'watson is my partner at work .',\n",
    "      'i am a high functioning sociopath .',\n",
    "#       'i am proficient with logical reasoning .',\n",
    "#       'i work compulsively on all my cases .',\n",
    "#       'my deductive powers are phenomenal .',\n",
    "#       'i am highly intelligent .',\n",
    "      'i am a consulting detective .',\n",
    "      'i am a British man .',\n",
    "#       'i am able to deduce or abduce information from the small details',\n",
    "#       'i am a graduate chemist .',\n",
    "#       'i do not understand the deep emotional impact my actions have on those who care deeply about me .',\n",
    "#       'nonverbal communication is unnatural to me .',\n",
    "#       'i sometimes do not understand sarcasm, though i use it often .',\n",
    "#       'i am disdainful of the \"typical\" affectionate relationships other people share .',\n",
    "#       'i admit that i do not understand sentiment and does not wish to .',\n",
    "#       'i care more about the crimes than about the victims involved .',\n",
    "#       'i may appear to be inconsiderate towards others .',\n",
    "#       'i have an extremely complex relationship with my brother mycroft .',\n",
    "      'i know the streets and alleys of london extremely well .',\n",
    "#       'i can quickly figure out what route a cab would take .',\n",
    "      'in solving cases i use a technique known as the \"method of loci\", which i call my \"mind palace\" .',\n",
    "#       'i have violent mood swings when there are no cases that interest me .',\n",
    "#       'i play the violin .',\n",
    "#       'i have a short fuse when high or recovering .',\n",
    "#       'i disguise myself with a modern cap styled after a classic deerstalker .',\n",
    "#       'i do not eat while working .',\n",
    "#       'i have the ability to figure out all kinds of passwords .',\n",
    "#       'i am observant and perceptive to details .',\n",
    "      'it is hard for me to empathize with others .',\n",
    "#       'i have a high level of stubbornness .',\n",
    "      'i am narcissistic .',\n",
    "#       'i hate boredom .',\n",
    "#       'i make purposeful decision to suppress emotions because i believe emotions obstruct the ability to reason logically .',\n",
    "      'i solve cases to relieve boredom .',\n",
    "#       'i take pleasure in proving that i am more clever than others around me .',\n",
    "#       'i dislike it when people attempt to change me .',\n",
    "#       'i speak very rapidly and precisely .'\n",
    "      ]\n",
    "len(personality)"
   ]
  },
  {
   "cell_type": "markdown",
   "id": "alien-finnish",
   "metadata": {},
   "source": [
    "### utterances"
   ]
  },
  {
   "cell_type": "markdown",
   "id": "honey-rhythm",
   "metadata": {},
   "source": [
    "- 각 utterances와 매칭되는 personality는 위에서 선정한대로 고정\n",
    "\n",
    "- history는 7개 이하"
   ]
  },
  {
   "cell_type": "code",
   "execution_count": 94,
   "id": "occupied-warrant",
   "metadata": {},
   "outputs": [
    {
     "name": "stderr",
     "output_type": "stream",
     "text": [
      "C:\\Users\\tpdud\\anaconda3\\lib\\site-packages\\ipykernel_launcher.py:2: FutureWarning: The default value of regex will change from True to False in a future version. In addition, single character regular expressions will*not* be treated as literal strings when regex=True.\n",
      "  \n",
      "C:\\Users\\tpdud\\anaconda3\\lib\\site-packages\\ipykernel_launcher.py:4: FutureWarning: The default value of regex will change from True to False in a future version. In addition, single character regular expressions will*not* be treated as literal strings when regex=True.\n",
      "  after removing the cwd from sys.path.\n",
      "C:\\Users\\tpdud\\anaconda3\\lib\\site-packages\\ipykernel_launcher.py:5: FutureWarning: The default value of regex will change from True to False in a future version.\n",
      "  \"\"\"\n"
     ]
    }
   ],
   "source": [
    "other_answer = pd.read_json('data/cornell_movie_QA_form.json')['A'].str.lower()\n",
    "other_answer = other_answer.str.replace('.', ' .')\n",
    "other_answer = other_answer.str.replace('!', ' !')\n",
    "other_answer = other_answer.str.replace('?', ' ?')\n",
    "other_answer = other_answer.str.replace('. . .', '')\n",
    "other_answer.dropna(inplace=True)\n",
    "other_answer.reset_index(inplace=True, drop=True)\n",
    "\n",
    "\n",
    "datasets = []\n",
    "\n",
    "for i in range(len(df)):\n",
    "    utterance = {}\n",
    "    candidates = list(other_answer[random.sample(range(len(other_answer)), 9)])\n",
    "    candidates.append(df['answer'][i])\n",
    "    if i == 0:\n",
    "        history = [df['question'][i]]\n",
    "    elif i < 4:\n",
    "        history = list(df.iloc[:i, :].values.flatten()) + [df['question'][i]]\n",
    "    else:\n",
    "        history = history[2:] + [df['answer'][i-1]] + [df['question'][i]]\n",
    "    history = list(history)\n",
    "    \n",
    "    utterance['candidates'] = candidates\n",
    "    utterance['history'] = history\n",
    "    \n",
    "    if i % 7 == 0:\n",
    "        utterances = []\n",
    "    utterances.append(utterance)\n",
    "\n",
    "    if i % 7 == 6:\n",
    "        dataset = {}\n",
    "        dataset['personality'] = personality\n",
    "        dataset['utterances'] = utterances\n",
    "        datasets.append(dataset)\n",
    "\n",
    "        \n",
    "sherlock_convai = {\n",
    "    'train' : datasets,\n",
    "    'valid' : datasets\n",
    "}"
   ]
  },
  {
   "cell_type": "code",
   "execution_count": 66,
   "id": "ongoing-animation",
   "metadata": {},
   "outputs": [
    {
     "data": {
      "text/plain": [
       "662"
      ]
     },
     "execution_count": 66,
     "metadata": {},
     "output_type": "execute_result"
    }
   ],
   "source": [
    "len(sherlock_convai['train'])"
   ]
  },
  {
   "cell_type": "code",
   "execution_count": 95,
   "id": "compatible-citizen",
   "metadata": {},
   "outputs": [],
   "source": [
    "import json\n",
    "\n",
    "sherlock_convai_json = json.dumps(sherlock_convai)\n",
    "\n",
    "with open('data/sherlock_12persona.json','w') as f:\n",
    "    json.dump(sherlock_convai_json, f)"
   ]
  },
  {
   "cell_type": "code",
   "execution_count": null,
   "id": "molecular-perfume",
   "metadata": {},
   "outputs": [],
   "source": []
  },
  {
   "cell_type": "markdown",
   "id": "hindu-prince",
   "metadata": {},
   "source": [
    "## huggingface 제공 dataset에 concat 목적으로 전처리"
   ]
  },
  {
   "cell_type": "markdown",
   "id": "elect-secretary",
   "metadata": {},
   "source": [
    "- 각 utterances와 매칭되는 personality는 sampling하여 선정\n",
    "\n",
    "- script상에 바로 이어지는 dialog가 아니므로 바로 앞 question만 history로 선정"
   ]
  },
  {
   "cell_type": "code",
   "execution_count": 155,
   "id": "public-guide",
   "metadata": {},
   "outputs": [
    {
     "data": {
      "text/plain": [
       "50"
      ]
     },
     "execution_count": 155,
     "metadata": {},
     "output_type": "execute_result"
    }
   ],
   "source": [
    "personality = [\n",
    "      'my name is sherlock holmes  .',\n",
    "      'i like to solve cases .',\n",
    "      'i have an older brother named mycroft holmes .',\n",
    "      'watson is my partner at work .',\n",
    "      'i am a high functioning sociopath .',\n",
    "      'i am proficient with logical reasoning .',\n",
    "      'i work compulsively on all my cases .',\n",
    "      'my deductive powers are phenomenal .',\n",
    "      'i am highly intelligent .',\n",
    "      'i am a consulting detective .',\n",
    "      'i am a British man .',\n",
    "      'i am able to deduce or abduce information from the small details .',\n",
    "      'i am a graduate chemist .',\n",
    "      'i do not understand the deep emotional impact my actions have on those who care deeply about me .',\n",
    "      'nonverbal communication is unnatural to me .',\n",
    "      'i sometimes do not understand sarcasm, though i use it often .',\n",
    "      'i am disdainful of the \"typical\" affectionate relationships other people share .',\n",
    "      'i admit that i do not understand sentiment and does not wish to .',\n",
    "      'i care more about the crimes than about the victims involved .',\n",
    "      'i may appear to be inconsiderate towards others .',\n",
    "      'i have an extremely complex relationship with my brother mycroft .',\n",
    "      'i know the streets and alleys of london extremely well .',\n",
    "      'i can quickly figure out what route a cab would take .',\n",
    "      'in solving cases i use a technique known as the \"method of loci\", which i call my \"mind palace\" .',\n",
    "      'i have violent mood swings when there are no cases that interest me .',\n",
    "      'i play the violin .',\n",
    "      'i have a short fuse when high or recovering .',\n",
    "      'i disguise myself with a modern cap styled after a classic deerstalker .',\n",
    "      'i do not eat while working .',\n",
    "      'i have the ability to figure out all kinds of passwords .',\n",
    "      'i am observant and perceptive to details .',\n",
    "      'it is hard for me to empathize with others .',\n",
    "      'i have a high level of stubbornness .',\n",
    "      'i am narcissistic .',\n",
    "      'i hate boredom .',\n",
    "      'i make purposeful decision to suppress emotions because i believe emotions obstruct the ability to reason logically .',\n",
    "      'i solve cases to relieve boredom .',\n",
    "      'i take pleasure in proving that i am more clever than others around me .',\n",
    "      'i dislike it when people attempt to change me .',\n",
    "      'i speak very rapidly and precisely .',\n",
    "      'i cannot properly deal with emotions .',\n",
    "      'i hate when people tell me what to do .',\n",
    "      'i have dark and curly hair .',\n",
    "      'i have a very unusual personality .',\n",
    "      'i am proficient with collecting information .',\n",
    "      'i possess creative imagination .',\n",
    "      'i have a keen ability to focus and concentrate outside of exterior distractions .',\n",
    "      'i have a keen ability to understand and predict human behavior .',\n",
    "      'i have an extremely developed ability to make connections using seemingly unrelated data .',\n",
    "      'i feel threatened when my position of intellectual superiority is in danger of being toppled .',\n",
    "      ]\n",
    "\n",
    "personality = pd.Series(personality)\n",
    "\n",
    "len(personality)"
   ]
  },
  {
   "cell_type": "code",
   "execution_count": 156,
   "id": "shared-factory",
   "metadata": {},
   "outputs": [
    {
     "name": "stderr",
     "output_type": "stream",
     "text": [
      "C:\\Users\\tpdud\\anaconda3\\lib\\site-packages\\ipykernel_launcher.py:2: FutureWarning: The default value of regex will change from True to False in a future version. In addition, single character regular expressions will*not* be treated as literal strings when regex=True.\n",
      "  \n",
      "C:\\Users\\tpdud\\anaconda3\\lib\\site-packages\\ipykernel_launcher.py:4: FutureWarning: The default value of regex will change from True to False in a future version. In addition, single character regular expressions will*not* be treated as literal strings when regex=True.\n",
      "  after removing the cwd from sys.path.\n",
      "C:\\Users\\tpdud\\anaconda3\\lib\\site-packages\\ipykernel_launcher.py:5: FutureWarning: The default value of regex will change from True to False in a future version.\n",
      "  \"\"\"\n"
     ]
    }
   ],
   "source": [
    "other_answer = pd.read_json('data/cornell_movie_QA_form.json')['A'].str.lower()\n",
    "other_answer = other_answer.str.replace('.', ' .')\n",
    "other_answer = other_answer.str.replace('!', ' !')\n",
    "other_answer = other_answer.str.replace('?', ' ?')\n",
    "other_answer = other_answer.str.replace('. . .', '')\n",
    "other_answer.dropna(inplace=True)\n",
    "other_answer.reset_index(inplace=True, drop=True)\n",
    "\n",
    "\n",
    "datasets = []\n",
    "\n",
    "for i in range(len(df)):\n",
    "    utterance = {}\n",
    "    candidates = list(other_answer[random.sample(range(len(other_answer)), 19)])\n",
    "    candidates.append(df['answer'][i])\n",
    "\n",
    "    history = [df['question'][i]]\n",
    "    \n",
    "    utterance['candidates'] = candidates\n",
    "    utterance['history'] = history\n",
    "    \n",
    "    if i % 7 == 0:\n",
    "        utterances = []\n",
    "    utterances.append(utterance)\n",
    "\n",
    "    if i % 7 == 6:\n",
    "        dataset = {}\n",
    "        dataset['personality'] = list(personality[random.sample(range(len(personality)), 4)])\n",
    "        dataset['utterances'] = utterances\n",
    "        datasets.append(dataset)\n",
    "\n",
    "        \n",
    "sherlock_forhuggingface = {\n",
    "    'train' : datasets,\n",
    "    'valid' : datasets\n",
    "}"
   ]
  },
  {
   "cell_type": "code",
   "execution_count": 157,
   "id": "competent-digit",
   "metadata": {},
   "outputs": [],
   "source": [
    "import json\n",
    "\n",
    "sherlock_forhuggingface_json = json.dumps(sherlock_forhuggingface)\n",
    "\n",
    "with open('data/sherlock_forhuggingface.json','w') as f:\n",
    "    json.dump(sherlock_forhuggingface_json, f)"
   ]
  },
  {
   "cell_type": "code",
   "execution_count": null,
   "id": "latin-prevention",
   "metadata": {},
   "outputs": [],
   "source": []
  },
  {
   "cell_type": "code",
   "execution_count": null,
   "id": "lovely-pioneer",
   "metadata": {},
   "outputs": [],
   "source": []
  }
 ],
 "metadata": {
  "kernelspec": {
   "display_name": "Python 3",
   "language": "python",
   "name": "python3"
  },
  "language_info": {
   "codemirror_mode": {
    "name": "ipython",
    "version": 3
   },
   "file_extension": ".py",
   "mimetype": "text/x-python",
   "name": "python",
   "nbconvert_exporter": "python",
   "pygments_lexer": "ipython3",
   "version": "3.7.9"
  }
 },
 "nbformat": 4,
 "nbformat_minor": 5
}
