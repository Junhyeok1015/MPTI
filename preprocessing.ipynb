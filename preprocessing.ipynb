{
 "cells": [
  {
   "cell_type": "markdown",
   "id": "social-section",
   "metadata": {},
   "source": [
    "## Sherlock (drama) script 기반 Q-A 구조 preprocessing"
   ]
  },
  {
   "cell_type": "code",
   "execution_count": 1,
   "id": "alert-borough",
   "metadata": {},
   "outputs": [],
   "source": [
    "import pandas as pd\n",
    "import numpy as np\n",
    "import re"
   ]
  },
  {
   "cell_type": "code",
   "execution_count": 2,
   "id": "demonstrated-springer",
   "metadata": {},
   "outputs": [],
   "source": [
    "file_num = ['101', '102', '103', '201', '202', '203', '301', '302', '303', '401', '402', '403']\n",
    "\n",
    "df = []\n",
    "\n",
    "for num in file_num:\n",
    "    name = '스크립트_txt/' + num + '.txt'\n",
    "    script = pd.read_csv(name, sep='|', names=['sentence'])['sentence']\n",
    "    SHERLOCK_idx = script[script.str.startswith('SHERLOCK')].index\n",
    "    \n",
    "    for idx in SHERLOCK_idx:\n",
    "        upper = idx - 1\n",
    "        while True:\n",
    "            if ':' in script[upper] and len(script[upper][script[upper].find(':')+2:]) > 0:\n",
    "                q = script[upper][script[upper].find(':')+2:]\n",
    "                a = script[idx][script[idx].find(':')+2:]\n",
    "                df.append([q, a])\n",
    "                break\n",
    "            else:\n",
    "                upper -= 1\n",
    "        \n",
    "        \n",
    "#         # answer만 split\n",
    "#         a = re.split(\"([.?!’”]) \", a)\n",
    "#         answer = [a[i-1] + a[i] for i in range(1, len(a), 2)] + [a[-1]]\n",
    "#         answer = list(filter(None, answer))\n",
    "#         for i in answer:\n",
    "#             if len(i) > 2:df.append([q, i])\n",
    "            \n",
    "            \n",
    "#         # 모든 조합 append\n",
    "#         q = re.split(\"([.?!’”]) \", q)\n",
    "#         question = [q[i-1] + q[i] for i in range(1, len(q), 2)] + [q[-1]]\n",
    "#         question = list(filter(None, question))\n",
    "#         a = re.split(\"([.?!’”]) \", a)\n",
    "#         answer = [a[i-1] + a[i] for i in range(1, len(a), 2)] + [a[-1]]\n",
    "#         answer = list(filter(None, answer))\n",
    "        \n",
    "#         for i in question:\n",
    "#             for j in answer:\n",
    "#                 if len(i) > 2 and len(j) > 2:df.append([i,j])\n",
    "\n",
    "                    \n",
    "df = pd.DataFrame(df, columns = ['question', 'answer'])\n",
    "\n",
    "df['answer'] = df['answer'].apply(lambda x: re.sub(r'\\([^)]*\\)', '', x))\n",
    "df['answer'] = df['answer'].apply(lambda x: re.sub(r'\\[*\\]', '', x))\n",
    "df['answer'] = df['answer'].str.replace('♪', \"\")\n",
    "df['answer'] = df['answer'].str.rstrip()\n",
    "\n",
    "df['question'] = df['question'].apply(lambda x: re.sub(r'\\([^)]*\\)', '', x))\n",
    "df['question'] = df['question'].apply(lambda x: re.sub(r'\\[*\\]', '', x))\n",
    "df['question'] = df['question'].str.replace('♪', \"\")\n",
    "df['question'] = df['question'].str.rstrip()\n",
    "\n",
    "df.replace('', np.nan, inplace=True)\n",
    "df.dropna(inplace=True, axis=0)\n",
    "df['answer'] = df['answer'].apply(lambda x: x + '.' if x[-1] not in ['.', '?', '!', '”', '’'] else x)\n",
    "df['question'] = df['question'].apply(lambda x: x + '.' if x[-1] not in ['.', '?', '!', '”', '’'] else x)"
   ]
  },
  {
   "cell_type": "code",
   "execution_count": 3,
   "id": "expected-stephen",
   "metadata": {},
   "outputs": [
    {
     "data": {
      "text/html": [
       "<div>\n",
       "<style scoped>\n",
       "    .dataframe tbody tr th:only-of-type {\n",
       "        vertical-align: middle;\n",
       "    }\n",
       "\n",
       "    .dataframe tbody tr th {\n",
       "        vertical-align: top;\n",
       "    }\n",
       "\n",
       "    .dataframe thead th {\n",
       "        text-align: right;\n",
       "    }\n",
       "</style>\n",
       "<table border=\"1\" class=\"dataframe\">\n",
       "  <thead>\n",
       "    <tr style=\"text-align: right;\">\n",
       "      <th></th>\n",
       "      <th>question</th>\n",
       "      <th>answer</th>\n",
       "    </tr>\n",
       "  </thead>\n",
       "  <tbody>\n",
       "    <tr>\n",
       "      <th>0</th>\n",
       "      <td>Who was the first?</td>\n",
       "      <td>How fresh?</td>\n",
       "    </tr>\n",
       "    <tr>\n",
       "      <th>1</th>\n",
       "      <td>Just in. Sixty-seven, natural causes. He used ...</td>\n",
       "      <td>Fine. We’ll start with the riding crop.</td>\n",
       "    </tr>\n",
       "    <tr>\n",
       "      <th>2</th>\n",
       "      <td>So, bad day, was it?</td>\n",
       "      <td>I need to know what bruises form in the next t...</td>\n",
       "    </tr>\n",
       "    <tr>\n",
       "      <th>3</th>\n",
       "      <td>Listen, I was wondering: maybe later, when you...</td>\n",
       "      <td>Are you wearing lipstick? You weren’t wearing ...</td>\n",
       "    </tr>\n",
       "    <tr>\n",
       "      <th>4</th>\n",
       "      <td>I, er, I refreshed it a bit.</td>\n",
       "      <td>Sorry, you were saying?</td>\n",
       "    </tr>\n",
       "    <tr>\n",
       "      <th>...</th>\n",
       "      <td>...</td>\n",
       "      <td>...</td>\n",
       "    </tr>\n",
       "    <tr>\n",
       "      <th>4635</th>\n",
       "      <td>Yeah, I’ll take care of it.</td>\n",
       "      <td>Thanks, Greg.</td>\n",
       "    </tr>\n",
       "    <tr>\n",
       "      <th>4636</th>\n",
       "      <td>You okay?</td>\n",
       "      <td>I said I’d bring her home. I can’t, can I?</td>\n",
       "    </tr>\n",
       "    <tr>\n",
       "      <th>4637</th>\n",
       "      <td>Well, you gave her what she was looking for: c...</td>\n",
       "      <td>Is that good?</td>\n",
       "    </tr>\n",
       "    <tr>\n",
       "      <th>4638</th>\n",
       "      <td>Then you should have done better.</td>\n",
       "      <td>He did his best.</td>\n",
       "    </tr>\n",
       "    <tr>\n",
       "      <th>4639</th>\n",
       "      <td>... there are two men sitting arguing in a scr...</td>\n",
       "      <td>Oh, there’s Daddy!</td>\n",
       "    </tr>\n",
       "  </tbody>\n",
       "</table>\n",
       "<p>4640 rows × 2 columns</p>\n",
       "</div>"
      ],
      "text/plain": [
       "                                               question  \\\n",
       "0                                    Who was the first?   \n",
       "1     Just in. Sixty-seven, natural causes. He used ...   \n",
       "2                                  So, bad day, was it?   \n",
       "3     Listen, I was wondering: maybe later, when you...   \n",
       "4                          I, er, I refreshed it a bit.   \n",
       "...                                                 ...   \n",
       "4635                        Yeah, I’ll take care of it.   \n",
       "4636                                          You okay?   \n",
       "4637  Well, you gave her what she was looking for: c...   \n",
       "4638                  Then you should have done better.   \n",
       "4639  ... there are two men sitting arguing in a scr...   \n",
       "\n",
       "                                                 answer  \n",
       "0                                            How fresh?  \n",
       "1               Fine. We’ll start with the riding crop.  \n",
       "2     I need to know what bruises form in the next t...  \n",
       "3     Are you wearing lipstick? You weren’t wearing ...  \n",
       "4                               Sorry, you were saying?  \n",
       "...                                                 ...  \n",
       "4635                                      Thanks, Greg.  \n",
       "4636         I said I’d bring her home. I can’t, can I?  \n",
       "4637                                      Is that good?  \n",
       "4638                                   He did his best.  \n",
       "4639                                 Oh, there’s Daddy!  \n",
       "\n",
       "[4640 rows x 2 columns]"
      ]
     },
     "execution_count": 3,
     "metadata": {},
     "output_type": "execute_result"
    }
   ],
   "source": [
    "df"
   ]
  },
  {
   "cell_type": "code",
   "execution_count": 4,
   "id": "narrow-imaging",
   "metadata": {
    "scrolled": false
   },
   "outputs": [
    {
     "data": {
      "text/plain": [
       "<AxesSubplot:>"
      ]
     },
     "execution_count": 4,
     "metadata": {},
     "output_type": "execute_result"
    },
    {
     "data": {
      "image/png": "[encoded data removed]",
      "text/plain": [
       "<Figure size 432x288 with 1 Axes>"
      ]
     },
     "metadata": {
      "needs_background": "light"
     },
     "output_type": "display_data"
    }
   ],
   "source": [
    "df['answer'].str.len().hist(bins=50)"
   ]
  },
  {
   "cell_type": "code",
   "execution_count": 5,
   "id": "invalid-introduction",
   "metadata": {
    "scrolled": true
   },
   "outputs": [
    {
     "data": {
      "text/plain": [
       "<AxesSubplot:>"
      ]
     },
     "execution_count": 5,
     "metadata": {},
     "output_type": "execute_result"
    },
    {
     "data": {
      "image/png": "[encoded data removed]",
      "text/plain": [
       "<Figure size 432x288 with 1 Axes>"
      ]
     },
     "metadata": {
      "needs_background": "light"
     },
     "output_type": "display_data"
    }
   ],
   "source": [
    "df['question'].str.len().hist(bins=50)"
   ]
  },
  {
   "cell_type": "code",
   "execution_count": 389,
   "id": "advisory-inventory",
   "metadata": {},
   "outputs": [],
   "source": [
    "df.to_json('sherlock_origin.json.')"
   ]
  },
  {
   "cell_type": "code",
   "execution_count": null,
   "id": "precious-holmes",
   "metadata": {},
   "outputs": [],
   "source": []
  },
  {
   "cell_type": "code",
   "execution_count": 390,
   "id": "conventional-advice",
   "metadata": {},
   "outputs": [
    {
     "data": {
      "text/html": [
       "<div>\n",
       "<style scoped>\n",
       "    .dataframe tbody tr th:only-of-type {\n",
       "        vertical-align: middle;\n",
       "    }\n",
       "\n",
       "    .dataframe tbody tr th {\n",
       "        vertical-align: top;\n",
       "    }\n",
       "\n",
       "    .dataframe thead th {\n",
       "        text-align: right;\n",
       "    }\n",
       "</style>\n",
       "<table border=\"1\" class=\"dataframe\">\n",
       "  <thead>\n",
       "    <tr style=\"text-align: right;\">\n",
       "      <th></th>\n",
       "      <th>question</th>\n",
       "      <th>answer</th>\n",
       "    </tr>\n",
       "  </thead>\n",
       "  <tbody>\n",
       "    <tr>\n",
       "      <th>0</th>\n",
       "      <td>Who was the first?</td>\n",
       "      <td>How fresh?</td>\n",
       "    </tr>\n",
       "    <tr>\n",
       "      <th>1</th>\n",
       "      <td>Just in. Sixty-seven, natural causes. He used ...</td>\n",
       "      <td>Fine. We’ll start with the riding crop.</td>\n",
       "    </tr>\n",
       "    <tr>\n",
       "      <th>2</th>\n",
       "      <td>So, bad day, was it?</td>\n",
       "      <td>I need to know what bruises form in the next t...</td>\n",
       "    </tr>\n",
       "    <tr>\n",
       "      <th>3</th>\n",
       "      <td>Listen, I was wondering: maybe later, when you...</td>\n",
       "      <td>Are you wearing lipstick? You weren’t wearing ...</td>\n",
       "    </tr>\n",
       "    <tr>\n",
       "      <th>4</th>\n",
       "      <td>I, er, I refreshed it a bit.</td>\n",
       "      <td>Sorry, you were saying?</td>\n",
       "    </tr>\n",
       "    <tr>\n",
       "      <th>...</th>\n",
       "      <td>...</td>\n",
       "      <td>...</td>\n",
       "    </tr>\n",
       "    <tr>\n",
       "      <th>4635</th>\n",
       "      <td>Yeah, I’ll take care of it.</td>\n",
       "      <td>Thanks, Greg.</td>\n",
       "    </tr>\n",
       "    <tr>\n",
       "      <th>4636</th>\n",
       "      <td>You okay?</td>\n",
       "      <td>I said I’d bring her home. I can’t, can I?</td>\n",
       "    </tr>\n",
       "    <tr>\n",
       "      <th>4637</th>\n",
       "      <td>Well, you gave her what she was looking for: c...</td>\n",
       "      <td>Is that good?</td>\n",
       "    </tr>\n",
       "    <tr>\n",
       "      <th>4638</th>\n",
       "      <td>Then you should have done better.</td>\n",
       "      <td>He did his best.</td>\n",
       "    </tr>\n",
       "    <tr>\n",
       "      <th>4639</th>\n",
       "      <td>... there are two men sitting arguing in a scr...</td>\n",
       "      <td>Oh, there’s Daddy!</td>\n",
       "    </tr>\n",
       "  </tbody>\n",
       "</table>\n",
       "<p>4640 rows × 2 columns</p>\n",
       "</div>"
      ],
      "text/plain": [
       "                                               question  \\\n",
       "0                                    Who was the first?   \n",
       "1     Just in. Sixty-seven, natural causes. He used ...   \n",
       "2                                  So, bad day, was it?   \n",
       "3     Listen, I was wondering: maybe later, when you...   \n",
       "4                          I, er, I refreshed it a bit.   \n",
       "...                                                 ...   \n",
       "4635                        Yeah, I’ll take care of it.   \n",
       "4636                                          You okay?   \n",
       "4637  Well, you gave her what she was looking for: c...   \n",
       "4638                  Then you should have done better.   \n",
       "4639  ... there are two men sitting arguing in a scr...   \n",
       "\n",
       "                                                 answer  \n",
       "0                                            How fresh?  \n",
       "1               Fine. We’ll start with the riding crop.  \n",
       "2     I need to know what bruises form in the next t...  \n",
       "3     Are you wearing lipstick? You weren’t wearing ...  \n",
       "4                               Sorry, you were saying?  \n",
       "...                                                 ...  \n",
       "4635                                      Thanks, Greg.  \n",
       "4636         I said I’d bring her home. I can’t, can I?  \n",
       "4637                                      Is that good?  \n",
       "4638                                   He did his best.  \n",
       "4639                                 Oh, there’s Daddy!  \n",
       "\n",
       "[4640 rows x 2 columns]"
      ]
     },
     "execution_count": 390,
     "metadata": {},
     "output_type": "execute_result"
    }
   ],
   "source": [
    "pd.read_json('sherlock_origin.json')"
   ]
  },
  {
   "cell_type": "code",
   "execution_count": 391,
   "id": "automatic-collector",
   "metadata": {},
   "outputs": [
    {
     "data": {
      "text/html": [
       "<div>\n",
       "<style scoped>\n",
       "    .dataframe tbody tr th:only-of-type {\n",
       "        vertical-align: middle;\n",
       "    }\n",
       "\n",
       "    .dataframe tbody tr th {\n",
       "        vertical-align: top;\n",
       "    }\n",
       "\n",
       "    .dataframe thead th {\n",
       "        text-align: right;\n",
       "    }\n",
       "</style>\n",
       "<table border=\"1\" class=\"dataframe\">\n",
       "  <thead>\n",
       "    <tr style=\"text-align: right;\">\n",
       "      <th></th>\n",
       "      <th>question</th>\n",
       "      <th>answer</th>\n",
       "    </tr>\n",
       "  </thead>\n",
       "  <tbody>\n",
       "    <tr>\n",
       "      <th>0</th>\n",
       "      <td>Who was the first?</td>\n",
       "      <td>How fresh?</td>\n",
       "    </tr>\n",
       "    <tr>\n",
       "      <th>1</th>\n",
       "      <td>Just in. Sixty-seven, natural causes. He used ...</td>\n",
       "      <td>Fine.</td>\n",
       "    </tr>\n",
       "    <tr>\n",
       "      <th>2</th>\n",
       "      <td>Just in. Sixty-seven, natural causes. He used ...</td>\n",
       "      <td>We’ll start with the riding crop.</td>\n",
       "    </tr>\n",
       "    <tr>\n",
       "      <th>3</th>\n",
       "      <td>So, bad day, was it?</td>\n",
       "      <td>I need to know what bruises form in the next t...</td>\n",
       "    </tr>\n",
       "    <tr>\n",
       "      <th>4</th>\n",
       "      <td>So, bad day, was it?</td>\n",
       "      <td>A man’s alibi depends on it.</td>\n",
       "    </tr>\n",
       "    <tr>\n",
       "      <th>...</th>\n",
       "      <td>...</td>\n",
       "      <td>...</td>\n",
       "    </tr>\n",
       "    <tr>\n",
       "      <th>7581</th>\n",
       "      <td>You okay?</td>\n",
       "      <td>I said I’d bring her home.</td>\n",
       "    </tr>\n",
       "    <tr>\n",
       "      <th>7582</th>\n",
       "      <td>You okay?</td>\n",
       "      <td>I can’t, can I?</td>\n",
       "    </tr>\n",
       "    <tr>\n",
       "      <th>7583</th>\n",
       "      <td>Well, you gave her what she was looking for: c...</td>\n",
       "      <td>Is that good?</td>\n",
       "    </tr>\n",
       "    <tr>\n",
       "      <th>7584</th>\n",
       "      <td>Then you should have done better.</td>\n",
       "      <td>He did his best.</td>\n",
       "    </tr>\n",
       "    <tr>\n",
       "      <th>7585</th>\n",
       "      <td>... there are two men sitting arguing in a scr...</td>\n",
       "      <td>Oh, there’s Daddy!</td>\n",
       "    </tr>\n",
       "  </tbody>\n",
       "</table>\n",
       "<p>7561 rows × 2 columns</p>\n",
       "</div>"
      ],
      "text/plain": [
       "                                               question  \\\n",
       "0                                    Who was the first?   \n",
       "1     Just in. Sixty-seven, natural causes. He used ...   \n",
       "2     Just in. Sixty-seven, natural causes. He used ...   \n",
       "3                                  So, bad day, was it?   \n",
       "4                                  So, bad day, was it?   \n",
       "...                                                 ...   \n",
       "7581                                          You okay?   \n",
       "7582                                          You okay?   \n",
       "7583  Well, you gave her what she was looking for: c...   \n",
       "7584                  Then you should have done better.   \n",
       "7585  ... there are two men sitting arguing in a scr...   \n",
       "\n",
       "                                                 answer  \n",
       "0                                            How fresh?  \n",
       "1                                                 Fine.  \n",
       "2                     We’ll start with the riding crop.  \n",
       "3     I need to know what bruises form in the next t...  \n",
       "4                          A man’s alibi depends on it.  \n",
       "...                                                 ...  \n",
       "7581                         I said I’d bring her home.  \n",
       "7582                                    I can’t, can I?  \n",
       "7583                                      Is that good?  \n",
       "7584                                   He did his best.  \n",
       "7585                                 Oh, there’s Daddy!  \n",
       "\n",
       "[7561 rows x 2 columns]"
      ]
     },
     "execution_count": 391,
     "metadata": {},
     "output_type": "execute_result"
    }
   ],
   "source": [
    "pd.read_json('sherlock_split_answer.json')"
   ]
  },
  {
   "cell_type": "code",
   "execution_count": 392,
   "id": "threaded-policy",
   "metadata": {},
   "outputs": [
    {
     "data": {
      "text/html": [
       "<div>\n",
       "<style scoped>\n",
       "    .dataframe tbody tr th:only-of-type {\n",
       "        vertical-align: middle;\n",
       "    }\n",
       "\n",
       "    .dataframe tbody tr th {\n",
       "        vertical-align: top;\n",
       "    }\n",
       "\n",
       "    .dataframe thead th {\n",
       "        text-align: right;\n",
       "    }\n",
       "</style>\n",
       "<table border=\"1\" class=\"dataframe\">\n",
       "  <thead>\n",
       "    <tr style=\"text-align: right;\">\n",
       "      <th></th>\n",
       "      <th>question</th>\n",
       "      <th>answer</th>\n",
       "    </tr>\n",
       "  </thead>\n",
       "  <tbody>\n",
       "    <tr>\n",
       "      <th>0</th>\n",
       "      <td>Who was the first?</td>\n",
       "      <td>How fresh?</td>\n",
       "    </tr>\n",
       "    <tr>\n",
       "      <th>1</th>\n",
       "      <td>Just in.</td>\n",
       "      <td>Fine.</td>\n",
       "    </tr>\n",
       "    <tr>\n",
       "      <th>2</th>\n",
       "      <td>Just in.</td>\n",
       "      <td>We’ll start with the riding crop.</td>\n",
       "    </tr>\n",
       "    <tr>\n",
       "      <th>3</th>\n",
       "      <td>Sixty-seven, natural causes.</td>\n",
       "      <td>Fine.</td>\n",
       "    </tr>\n",
       "    <tr>\n",
       "      <th>4</th>\n",
       "      <td>Sixty-seven, natural causes.</td>\n",
       "      <td>We’ll start with the riding crop.</td>\n",
       "    </tr>\n",
       "    <tr>\n",
       "      <th>...</th>\n",
       "      <td>...</td>\n",
       "      <td>...</td>\n",
       "    </tr>\n",
       "    <tr>\n",
       "      <th>12223</th>\n",
       "      <td>You okay?</td>\n",
       "      <td>I can’t, can I?</td>\n",
       "    </tr>\n",
       "    <tr>\n",
       "      <th>12224</th>\n",
       "      <td>Well, you gave her what she was looking for: c...</td>\n",
       "      <td>Is that good?</td>\n",
       "    </tr>\n",
       "    <tr>\n",
       "      <th>12225</th>\n",
       "      <td>Then you should have done better.</td>\n",
       "      <td>He did his best.</td>\n",
       "    </tr>\n",
       "    <tr>\n",
       "      <th>12226</th>\n",
       "      <td>...</td>\n",
       "      <td>Oh, there’s Daddy!</td>\n",
       "    </tr>\n",
       "    <tr>\n",
       "      <th>12227</th>\n",
       "      <td>there are two men sitting arguing in a scruffy...</td>\n",
       "      <td>Oh, there’s Daddy!</td>\n",
       "    </tr>\n",
       "  </tbody>\n",
       "</table>\n",
       "<p>12158 rows × 2 columns</p>\n",
       "</div>"
      ],
      "text/plain": [
       "                                                question  \\\n",
       "0                                     Who was the first?   \n",
       "1                                               Just in.   \n",
       "2                                               Just in.   \n",
       "3                           Sixty-seven, natural causes.   \n",
       "4                           Sixty-seven, natural causes.   \n",
       "...                                                  ...   \n",
       "12223                                          You okay?   \n",
       "12224  Well, you gave her what she was looking for: c...   \n",
       "12225                  Then you should have done better.   \n",
       "12226                                                ...   \n",
       "12227  there are two men sitting arguing in a scruffy...   \n",
       "\n",
       "                                  answer  \n",
       "0                             How fresh?  \n",
       "1                                  Fine.  \n",
       "2      We’ll start with the riding crop.  \n",
       "3                                  Fine.  \n",
       "4      We’ll start with the riding crop.  \n",
       "...                                  ...  \n",
       "12223                    I can’t, can I?  \n",
       "12224                      Is that good?  \n",
       "12225                   He did his best.  \n",
       "12226                 Oh, there’s Daddy!  \n",
       "12227                 Oh, there’s Daddy!  \n",
       "\n",
       "[12158 rows x 2 columns]"
      ]
     },
     "execution_count": 392,
     "metadata": {},
     "output_type": "execute_result"
    }
   ],
   "source": [
    "pd.read_json('sherlock_split_all.json')"
   ]
  },
  {
   "cell_type": "code",
   "execution_count": 393,
   "id": "professional-stocks",
   "metadata": {},
   "outputs": [],
   "source": [
    "split_all = pd.read_json('sherlock_split_all.json')"
   ]
  },
  {
   "cell_type": "code",
   "execution_count": 395,
   "id": "german-charleston",
   "metadata": {},
   "outputs": [
    {
     "data": {
      "text/plain": [
       "<AxesSubplot:>"
      ]
     },
     "execution_count": 395,
     "metadata": {},
     "output_type": "execute_result"
    },
    {
     "data": {
      "image/png": "[encoded data removed]",
      "text/plain": [
       "<Figure size 432x288 with 1 Axes>"
      ]
     },
     "metadata": {
      "needs_background": "light"
     },
     "output_type": "display_data"
    }
   ],
   "source": [
    "split_all['question'].str.len().hist(bins=50)"
   ]
  },
  {
   "cell_type": "code",
   "execution_count": 396,
   "id": "heated-triangle",
   "metadata": {},
   "outputs": [
    {
     "data": {
      "text/plain": [
       "<AxesSubplot:>"
      ]
     },
     "execution_count": 396,
     "metadata": {},
     "output_type": "execute_result"
    },
    {
     "data": {
      "image/png": "[encoded data removed]",
      "text/plain": [
       "<Figure size 432x288 with 1 Axes>"
      ]
     },
     "metadata": {
      "needs_background": "light"
     },
     "output_type": "display_data"
    }
   ],
   "source": [
    "split_all['answer'].str.len().hist(bins=50)"
   ]
  },
  {
   "cell_type": "code",
   "execution_count": null,
   "id": "historic-leone",
   "metadata": {},
   "outputs": [],
   "source": []
  },
  {
   "cell_type": "code",
   "execution_count": null,
   "id": "progressive-scanning",
   "metadata": {},
   "outputs": [],
   "source": []
  },
  {
   "cell_type": "code",
   "execution_count": null,
   "id": "critical-reynolds",
   "metadata": {},
   "outputs": [],
   "source": []
  }
 ],
 "metadata": {
  "kernelspec": {
   "display_name": "Python 3",
   "language": "python",
   "name": "python3"
  },
  "language_info": {
   "codemirror_mode": {
    "name": "ipython",
    "version": 3
   },
   "file_extension": ".py",
   "mimetype": "text/x-python",
   "name": "python",
   "nbconvert_exporter": "python",
   "pygments_lexer": "ipython3",
   "version": "3.7.9"
  }
 },
 "nbformat": 4,
 "nbformat_minor": 5
}
